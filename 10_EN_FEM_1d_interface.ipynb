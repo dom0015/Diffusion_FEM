{
 "cells": [
  {
   "cell_type": "code",
   "execution_count": 1,
   "metadata": {},
   "outputs": [],
   "source": [
    "import numpy as np\n",
    "import matplotlib.pyplot as plt"
   ]
  },
  {
   "cell_type": "markdown",
   "metadata": {},
   "source": [
    "## Finite element method (FEM) in 1d\n",
    "Solve the following 1d diffusion boundary value problem using linear finite elements and compare with analytical solution."
   ]
  },
  {
   "cell_type": "code",
   "execution_count": 2,
   "metadata": {},
   "outputs": [],
   "source": [
    "# boundary value problem\n",
    "#   -k1*u1''(x)=f   in (0,M)\n",
    "#   -k2*u2''(x)=f   in (M,L)\n",
    "#   u1(0)=U\n",
    "#   -k2*u2'(L)=T\n",
    "#   u1(M)=u2(M)\n",
    "#   k1*u1'(M+)=k2*u2'(M-)\n",
    "\n",
    "k1 = 1\n",
    "k2 = 2\n",
    "f = -0.1\n",
    "L = 1\n",
    "M = 0.5\n",
    "U = 0\n",
    "T = 0"
   ]
  },
  {
   "cell_type": "markdown",
   "metadata": {},
   "source": [
    "Preparation of the discretization and material inputs (similar structure will be used in 2d FEM):"
   ]
  },
  {
   "cell_type": "code",
   "execution_count": 3,
   "metadata": {},
   "outputs": [],
   "source": [
    "# Discretization\n",
    "N = 10  # number of intervals\n",
    "NODES = np.linspace(0, L, N + 1)  # all points\n",
    "n_NODES = NODES.size  # number of nodes\n",
    "ELEMENTS = np.column_stack((np.arange(n_NODES - 1), np.arange(1, n_NODES)))  # element indices\n",
    "n_ELEMENTS = ELEMENTS.shape[0]  # number of elements\n",
    "\n",
    "# Boundary conditions\n",
    "DBOUNDARY = [0]  # Dirichlet boundary nodes (index 0 in Python)\n",
    "DVALUE = [U]  # Dirichlet values\n",
    "FREENODE = np.ones(n_NODES, dtype=bool)\n",
    "FREENODE[DBOUNDARY] = False  # Free nodes without Dirichlet boundary\n",
    "NBOUNDARY = [n_NODES - 1]  # Neumann boundary nodes (last index in Python)\n",
    "NVALUE = [T]  # Neumann values\n",
    "\n",
    "# Element properties\n",
    "LENGTHS = NODES[ELEMENTS[:, 1]] - NODES[ELEMENTS[:, 0]]  # element lengths\n",
    "MATERIALS = np.full(n_ELEMENTS, k1)  # material properties\n",
    "CENTERS = np.sum(NODES[ELEMENTS], axis=1) / 2  # element centers\n",
    "MATERIALS[CENTERS > M] = k2\n",
    "F = np.full(n_ELEMENTS, f)  # source function values\n"
   ]
  },
  {
   "cell_type": "code",
   "execution_count": 4,
   "metadata": {},
   "outputs": [
    {
     "name": "stdout",
     "output_type": "stream",
     "text": [
      "[1 1 1 1 1 2 2 2 2 2]\n"
     ]
    }
   ],
   "source": [
    "print(MATERIALS)"
   ]
  },
  {
   "cell_type": "markdown",
   "metadata": {},
   "source": [
    "Construct FEM matrix and right hand side vector using local matrices and vectors:"
   ]
  },
  {
   "cell_type": "code",
   "execution_count": 5,
   "metadata": {},
   "outputs": [],
   "source": [
    "# Local matrix and rhs\n",
    "A_local = np.array([[1, -1], [-1, 1]])  # Local stiffness matrix\n",
    "b_local = np.array([1/2, 1/2])  # Local right-hand side vector\n",
    "\n",
    "# Global matrix and rhs\n",
    "A = np.zeros((n_NODES, n_NODES))\n",
    "b = np.zeros(n_NODES)\n",
    "for i in range(n_ELEMENTS):\n",
    "    A[np.ix_(ELEMENTS[i], ELEMENTS[i])] += A_local * MATERIALS[i] / LENGTHS[i]\n",
    "    b[ELEMENTS[i]] += b_local * F[i] * LENGTHS[i]\n"
   ]
  },
  {
   "cell_type": "markdown",
   "metadata": {},
   "source": [
    "Eliminate unknowns corresponding to Dirichlet nodes, modify the r. h. s. vector according to Neumann boundary conditions, and solve the resulting linear system:"
   ]
  },
  {
   "cell_type": "code",
   "execution_count": 6,
   "metadata": {},
   "outputs": [],
   "source": [
    "# Apply boundary conditions\n",
    "u = np.zeros(n_NODES)\n",
    "u[~FREENODE] = DVALUE\n",
    "b -= A @ u\n",
    "b[NBOUNDARY] -= NVALUE\n",
    "u[FREENODE] = np.linalg.solve(A[np.ix_(FREENODE, FREENODE)], b[FREENODE])"
   ]
  },
  {
   "cell_type": "markdown",
   "metadata": {},
   "source": [
    "It remains to plot the solution and compare to analytical solution:"
   ]
  },
  {
   "cell_type": "code",
   "execution_count": 7,
   "metadata": {},
   "outputs": [
    {
     "data": {
      "image/png": "[encoded data removed]",
      "text/plain": [
       "<Figure size 640x480 with 1 Axes>"
      ]
     },
     "metadata": {},
     "output_type": "display_data"
    }
   ],
   "source": [
    "# Analytical solution\n",
    "C2 = U\n",
    "D1 = (f * L - T) / k2\n",
    "C1 = D1 * k2 / k1\n",
    "D2 = -f / (2 * k1) * M**2 + C1 * M + C2 + f / (2 * k2) * M**2 - D1 * M\n",
    "\n",
    "def u1(x):\n",
    "    return -f / (2 * k1) * x**2 + C1 * x + C2\n",
    "\n",
    "def u2(x):\n",
    "    return -f / (2 * k2) * x**2 + D1 * x + D2\n",
    "\n",
    "x1 = np.linspace(0, M, 100)\n",
    "x2 = np.linspace(M, L, 100)\n",
    "\n",
    "# Plot the solution\n",
    "plt.figure()\n",
    "plt.plot(NODES, u, label='Finite Element Solution')\n",
    "plt.plot(x1, u1(x1), label='Analytical k1')\n",
    "plt.plot(x2, u2(x2), label='Analytical k2')\n",
    "plt.xlabel(\"x\")\n",
    "plt.ylabel(\"u(x)\")\n",
    "plt.legend()\n",
    "plt.show()\n"
   ]
  },
  {
   "cell_type": "markdown",
   "metadata": {},
   "source": [
    "## Other tasks:\n",
    "1) Can we use a discretization that does not have a node in the point of the interface?"
   ]
  },
  {
   "cell_type": "code",
   "execution_count": null,
   "metadata": {},
   "outputs": [],
   "source": []
  }
 ],
 "metadata": {
  "kernelspec": {
   "display_name": "venv",
   "language": "python",
   "name": "python3"
  },
  "language_info": {
   "codemirror_mode": {
    "name": "ipython",
    "version": 3
   },
   "file_extension": ".py",
   "mimetype": "text/x-python",
   "name": "python",
   "nbconvert_exporter": "python",
   "pygments_lexer": "ipython3",
   "version": "3.12.6"
  }
 },
 "nbformat": 4,
 "nbformat_minor": 4
}
